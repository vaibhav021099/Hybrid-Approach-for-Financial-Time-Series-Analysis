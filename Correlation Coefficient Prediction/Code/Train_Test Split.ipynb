{
 "cells": [
  {
   "cell_type": "code",
   "execution_count": 2,
   "metadata": {},
   "outputs": [],
   "source": [
    "import pandas as pd\n",
    "import numpy as np\n",
    "import matplotlib.pyplot as plt\n",
    "import random"
   ]
  },
  {
   "cell_type": "code",
   "execution_count": 9,
   "metadata": {},
   "outputs": [
    {
     "name": "stdout",
     "output_type": "stream",
     "text": [
      "(1117500, 24)\n"
     ]
    }
   ],
   "source": [
    "data_df = pd.read_csv('C:/Users/vaibh/Minor_Project/Dataset.csv')\n",
    "data_df = data_df.loc[:, ~data_df.columns.str.contains('^Unnamed')]\n",
    "print(data_df.shape)"
   ]
  },
  {
   "cell_type": "code",
   "execution_count": 10,
   "metadata": {},
   "outputs": [
    {
     "name": "stdout",
     "output_type": "stream",
     "text": [
      "(24, 1117500)\n",
      "    0         1         2         3         4         5         6        \\\n",
      "0  0.947559  0.947795  0.947591  0.946904  0.947198  0.947220  0.945843   \n",
      "1  0.409480  0.429436  0.450493  0.474815  0.477444  0.474399  0.476480   \n",
      "2  0.330053  0.333113  0.334209  0.330885  0.351089  0.382897  0.410765   \n",
      "3  0.588166  0.612034  0.642823  0.697771  0.717350  0.741454  0.754138   \n",
      "4 -0.058139 -0.046570 -0.047830 -0.091267 -0.090464 -0.098293 -0.093067   \n",
      "\n",
      "    7         8         9        ...   1117490   1117491   1117492   1117493  \\\n",
      "0  0.945266  0.944713  0.944156  ... -0.097536 -0.079258 -0.054593 -0.027719   \n",
      "1  0.473375  0.474378  0.478054  ... -0.214804 -0.246888 -0.267726 -0.283640   \n",
      "2  0.428986  0.439551  0.447771  ...  0.312783  0.296517  0.282415  0.276559   \n",
      "3  0.765507  0.775508  0.789607  ...  0.280730  0.212027  0.168466  0.127972   \n",
      "4 -0.082332 -0.069013 -0.051987  ...  0.115633  0.145762  0.092639  0.037536   \n",
      "\n",
      "    1117494   1117495   1117496   1117497   1117498   1117499  \n",
      "0  0.007083  0.042149  0.082150  0.121457  0.164914  0.206412  \n",
      "1 -0.297657 -0.307645 -0.317208 -0.330085 -0.344369 -0.353398  \n",
      "2  0.283521  0.296039  0.294357  0.288281  0.282298  0.307043  \n",
      "3  0.069598  0.030992  0.010440 -0.021719 -0.040449 -0.053929  \n",
      "4 -0.014411 -0.074272 -0.138671 -0.182296 -0.215521 -0.224032  \n",
      "\n",
      "[5 rows x 1117500 columns]\n"
     ]
    }
   ],
   "source": [
    "num_list = []\n",
    "for i in range(24):\n",
    "    num_list.append(str(i))\n",
    "data_df = data_df[num_list].copy()\n",
    "data_df = np.transpose(data_df)\n",
    "print(data_df.shape)\n",
    "print(data_df.head())"
   ]
  },
  {
   "cell_type": "markdown",
   "metadata": {},
   "source": [
    "## Train/Validation/Test Split"
   ]
  },
  {
   "cell_type": "code",
   "execution_count": 13,
   "metadata": {},
   "outputs": [],
   "source": [
    "indices = [20*k for k in range(55875)]\n",
    "data_df = pd.DataFrame(data_df[indices])\n",
    "\n",
    "train = []\n",
    "dev = []\n",
    "test1 = []\n",
    "test2 = []\n",
    "\n",
    "for i in range(data_df.shape[1]):\n",
    "    tmp = data_df[20*i].copy()\n",
    "    train.append(tmp[:21])\n",
    "    dev.append(tmp[1:22])\n",
    "    test1.append(tmp[2:23])\n",
    "    test2.append(tmp[3:24])\n",
    "    \n",
    "train = pd.DataFrame(train)\n",
    "dev = pd.DataFrame(dev)\n",
    "test1 = pd.DataFrame(test1)\n",
    "test2 = pd.DataFrame(test2)\n",
    "\n",
    "train.to_csv('C:/Users/vaibh/Minor_Project/TDT_Data/Train.csv')\n",
    "dev.to_csv('C:/Users/vaibh/Minor_Project/TDT_Data/Validation.csv')\n",
    "test1.to_csv('C:/Users/vaibh/Minor_Project/TDT_Data/Test1.csv')\n",
    "test2.to_csv('C:/Users/vaibh/Minor_Project/TDT_Data/Test2.csv')"
   ]
  }
 ],
 "metadata": {
  "kernelspec": {
   "display_name": "Python 3",
   "language": "python",
   "name": "python3"
  },
  "language_info": {
   "codemirror_mode": {
    "name": "ipython",
    "version": 3
   },
   "file_extension": ".py",
   "mimetype": "text/x-python",
   "name": "python",
   "nbconvert_exporter": "python",
   "pygments_lexer": "ipython3",
   "version": "3.8.3"
  }
 },
 "nbformat": 4,
 "nbformat_minor": 4
}
