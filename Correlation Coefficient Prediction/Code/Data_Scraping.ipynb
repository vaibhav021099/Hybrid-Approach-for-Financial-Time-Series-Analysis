{
 "cells": [
  {
   "cell_type": "code",
   "execution_count": 1,
   "metadata": {},
   "outputs": [
    {
     "name": "stdout",
     "output_type": "stream",
     "text": [
      "    Ticker                 Company             GICS_sector  \\\n",
      "0      MMM              3M Company             Industrials   \n",
      "1      ABT     Abbott Laboratories             Health Care   \n",
      "2     ABBV             AbbVie Inc.             Health Care   \n",
      "3     ABMD             ABIOMED Inc             Health Care   \n",
      "4      ACN           Accenture plc  Information Technology   \n",
      "..     ...                     ...                     ...   \n",
      "500    YUM         Yum! Brands Inc  Consumer Discretionary   \n",
      "501   ZBRA      Zebra Technologies  Information Technology   \n",
      "502    ZBH  Zimmer Biomet Holdings             Health Care   \n",
      "503   ZION           Zions Bancorp              Financials   \n",
      "504    ZTS                  Zoetis             Health Care   \n",
      "\n",
      "                      GICS_sub_industry  \n",
      "0              Industrial Conglomerates  \n",
      "1                 Health Care Equipment  \n",
      "2                       Pharmaceuticals  \n",
      "3                 Health Care Equipment  \n",
      "4        IT Consulting & Other Services  \n",
      "..                                  ...  \n",
      "500                         Restaurants  \n",
      "501  Electronic Equipment & Instruments  \n",
      "502               Health Care Equipment  \n",
      "503                      Regional Banks  \n",
      "504                     Pharmaceuticals  \n",
      "\n",
      "[505 rows x 4 columns]\n"
     ]
    }
   ],
   "source": [
    "from bs4 import BeautifulSoup\n",
    "import urllib.request\n",
    "import urllib.parse\n",
    "import requests\n",
    "import pandas as pd\n",
    "\n",
    "\n",
    "#Get total list of S&P500 companies\n",
    "url='https://en.wikipedia.org/wiki/List_of_S%26P_500_companies'\n",
    "with urllib.request.urlopen(url) as response:\n",
    "    html = response.read()\n",
    "    soup = BeautifulSoup(html, 'html.parser')\n",
    "    table = soup.find('table',{'class':'wikitable sortable'})\n",
    "    tr_list = table.find_all(\"tr\")\n",
    "    \n",
    "    Ticker = []\n",
    "    Company = []\n",
    "    GICS_sector = []\n",
    "    GICS_sub_industry = []\n",
    "    for unit in tr_list[1:] :  #excluded the first 'tr' which refers to variable names of the table\n",
    "        td_list = unit.find_all(\"td\")\n",
    "        Ticker.append(td_list[0].text.strip())\n",
    "        Company.append(td_list[1].text)\n",
    "        GICS_sector.append(td_list[3].text)\n",
    "        GICS_sub_industry.append(td_list[4].text)\n",
    "    SP500 = {'Ticker':Ticker, 'Company':Company, 'GICS_sector':GICS_sector, 'GICS_sub_industry':GICS_sub_industry}\n",
    "    SP_df = pd.DataFrame(SP500)\n",
    "    print(SP_df)\n",
    "    SP_df.to_csv(\"C:/Users/vaibh/Minor_Project/SP500_list.csv\")"
   ]
  },
  {
   "cell_type": "code",
   "execution_count": 22,
   "metadata": {},
   "outputs": [
    {
     "name": "stdout",
     "output_type": "stream",
     "text": [
      "['MMM', 'ABT', 'ABBV', 'ABMD', 'ACN', 'ATVI', 'ADBE', 'AMD', 'AAP', 'AES', 'AFL', 'A', 'APD', 'AKAM', 'ALK', 'ALB', 'ARE', 'ALXN', 'ALGN', 'ALLE', 'LNT', 'ALL', 'GOOGL', 'GOOG', 'MO', 'AMZN', 'AMCR', 'AEE', 'AAL', 'AEP', 'AXP', 'AIG', 'AMT', 'AWK', 'AMP', 'ABC', 'AME', 'AMGN', 'APH', 'ADI', 'ANSS', 'ANTM', 'AON', 'AOS', 'APA', 'AIV', 'AAPL', 'AMAT', 'APTV', 'ADM', 'ANET', 'AJG', 'AIZ', 'T', 'ATO', 'ADSK', 'ADP', 'AZO', 'AVB', 'AVY', 'BKR', 'BLL', 'BAC', 'BK', 'BAX', 'BDX', 'BRK.B', 'BBY', 'BIO', 'BIIB', 'BLK', 'BA', 'BKNG', 'BWA', 'BXP', 'BSX', 'BMY', 'AVGO', 'BR', 'BF.B', 'CHRW', 'COG', 'CDNS', 'CPB', 'COF', 'CAH', 'KMX', 'CCL', 'CARR', 'CAT', 'CBOE', 'CBRE', 'CDW', 'CE', 'CNC', 'CNP', 'CTL', 'CERN', 'CF', 'SCHW', 'CHTR', 'CVX', 'CMG', 'CB', 'CHD', 'CI', 'CINF', 'CTAS', 'CSCO', 'C', 'CFG', 'CTXS', 'CLX', 'CME', 'CMS', 'KO', 'CTSH', 'CL', 'CMCSA', 'CMA', 'CAG', 'CXO', 'COP', 'ED', 'STZ', 'COO', 'CPRT', 'GLW', 'CTVA', 'COST', 'COTY', 'CCI', 'CSX', 'CMI', 'CVS', 'DHI', 'DHR', 'DRI', 'DVA', 'DE', 'DAL', 'XRAY', 'DVN', 'DXCM', 'FANG', 'DLR', 'DFS', 'DISCA', 'DISCK', 'DISH', 'DG', 'DLTR', 'D', 'DPZ', 'DOV', 'DOW', 'DTE', 'DUK', 'DRE', 'DD', 'DXC', 'ETFC', 'EMN', 'ETN', 'EBAY', 'ECL', 'EIX', 'EW', 'EA', 'EMR', 'ETR', 'EOG', 'EFX', 'EQIX', 'EQR', 'ESS', 'EL', 'EVRG', 'ES', 'RE', 'EXC', 'EXPE', 'EXPD', 'EXR', 'XOM', 'FFIV', 'FB', 'FAST', 'FRT', 'FDX', 'FIS', 'FITB', 'FE', 'FRC', 'FISV', 'FLT', 'FLIR', 'FLS', 'FMC', 'F', 'FTNT', 'FTV', 'FBHS', 'FOXA', 'FOX', 'BEN', 'FCX', 'GPS', 'GRMN', 'IT', 'GD', 'GE', 'GIS', 'GM', 'GPC', 'GILD', 'GL', 'GPN', 'GS', 'GWW', 'HRB', 'HAL', 'HBI', 'HIG', 'HAS', 'HCA', 'PEAK', 'HSIC', 'HSY', 'HES', 'HPE', 'HLT', 'HFC', 'HOLX', 'HD', 'HON', 'HRL', 'HST', 'HWM', 'HPQ', 'HUM', 'HBAN', 'HII', 'IEX', 'IDXX', 'INFO', 'ITW', 'ILMN', 'INCY', 'IR', 'INTC', 'ICE', 'IBM', 'IP', 'IPG', 'IFF', 'INTU', 'ISRG', 'IVZ', 'IPGP', 'IQV', 'IRM', 'JKHY', 'J', 'JBHT', 'SJM', 'JNJ', 'JCI', 'JPM', 'JNPR', 'KSU', 'K', 'KEY', 'KEYS', 'KMB', 'KIM', 'KMI', 'KLAC', 'KSS', 'KHC', 'KR', 'LB', 'LHX', 'LH', 'LRCX', 'LW', 'LVS', 'LEG', 'LDOS', 'LEN', 'LLY', 'LNC', 'LIN', 'LYV', 'LKQ', 'LMT', 'L', 'LOW', 'LYB', 'MTB', 'MRO', 'MPC', 'MKTX', 'MAR', 'MMC', 'MLM', 'MAS', 'MA', 'MKC', 'MXIM', 'MCD', 'MCK', 'MDT', 'MRK', 'MET', 'MTD', 'MGM', 'MCHP', 'MU', 'MSFT', 'MAA', 'MHK', 'TAP', 'MDLZ', 'MNST', 'MCO', 'MS', 'MOS', 'MSI', 'MSCI', 'MYL', 'NDAQ', 'NOV', 'NTAP', 'NFLX', 'NWL', 'NEM', 'NWSA', 'NWS', 'NEE', 'NLSN', 'NKE', 'NI', 'NBL', 'NSC', 'NTRS', 'NOC', 'NLOK', 'NCLH', 'NRG', 'NUE', 'NVDA', 'NVR', 'ORLY', 'OXY', 'ODFL', 'OMC', 'OKE', 'ORCL', 'OTIS', 'PCAR', 'PKG', 'PH', 'PAYX', 'PAYC', 'PYPL', 'PNR', 'PBCT', 'PEP', 'PKI', 'PRGO', 'PFE', 'PM', 'PSX', 'PNW', 'PXD', 'PNC', 'PPG', 'PPL', 'PFG', 'PG', 'PGR', 'PLD', 'PRU', 'PEG', 'PSA', 'PHM', 'PVH', 'QRVO', 'PWR', 'QCOM', 'DGX', 'RL', 'RJF', 'RTX', 'O', 'REG', 'REGN', 'RF', 'RSG', 'RMD', 'RHI', 'ROK', 'ROL', 'ROP', 'ROST', 'RCL', 'SPGI', 'CRM', 'SBAC', 'SLB', 'STX', 'SEE', 'SRE', 'NOW', 'SHW', 'SPG', 'SWKS', 'SLG', 'SNA', 'SO', 'LUV', 'SWK', 'SBUX', 'STT', 'STE', 'SYK', 'SIVB', 'SYF', 'SNPS', 'SYY', 'TMUS', 'TROW', 'TTWO', 'TPR', 'TGT', 'TEL', 'FTI', 'TDY', 'TFX', 'TXN', 'TXT', 'TMO', 'TIF', 'TJX', 'TSCO', 'TT', 'TDG', 'TRV', 'TFC', 'TWTR', 'TYL', 'TSN', 'UDR', 'ULTA', 'USB', 'UAA', 'UA', 'UNP', 'UAL', 'UNH', 'UPS', 'URI', 'UHS', 'UNM', 'VFC', 'VLO', 'VAR', 'VTR', 'VRSN', 'VRSK', 'VZ', 'VRTX', 'VIAC', 'V', 'VNO', 'VMC', 'WRB', 'WAB', 'WMT', 'WBA', 'DIS', 'WM', 'WAT', 'WEC', 'WFC', 'WELL', 'WST', 'WDC', 'WU', 'WRK', 'WY', 'WHR', 'WMB', 'WLTW', 'WYNN', 'XEL', 'XRX', 'XLNX', 'XYL', 'YUM', 'ZBRA', 'ZBH', 'ZION', 'ZTS']\n"
     ]
    }
   ],
   "source": [
    "tickers = list(SP_df.Ticker)\n",
    "print(tickers)"
   ]
  },
  {
   "cell_type": "code",
   "execution_count": 89,
   "metadata": {},
   "outputs": [
    {
     "name": "stdout",
     "output_type": "stream",
     "text": [
      "['PBCT', 'CHD', 'LEG', 'LDOS', 'ADI', 'MPC', 'MCO', 'PEG', 'VRSK', 'ED', 'VLO', 'INTU', 'SWK', 'SEE', 'LRCX', 'PPL', 'PCAR', 'BLL', 'VIAC', 'COF', 'CCI', 'MO', 'CL', 'SPGI', 'DE', 'TDG', 'OKE', 'FLT', 'SNA', 'AEP', 'CMI', 'MS', 'ARE', 'YUM', 'SPG', 'KSU', 'JNJ', 'PH', 'LB', 'SLG', 'RTX', 'KMB', 'IQV', 'HST', 'TT', 'DUK', 'SIVB', 'HES', 'MYL', 'MCK', 'TRV', 'PSX', 'ABT', 'ODFL', 'AIG', 'AON', 'BAX', 'VFC', 'VNO', 'ORCL', 'PNW', 'UNM', 'BWA', 'OXY', 'FB', 'IVZ', 'O', 'FLS', 'REGN', 'LW', 'URI', 'DISCA', 'IT', 'CME', 'AVB', 'LNT', 'SYY', 'BR', 'TIF', 'VAR', 'HFC', 'BKR', 'IP', 'GS', 'HBAN', 'IEX', 'ECL', 'STZ', 'NOV', 'MGM', 'CMCSA', 'OMC', 'WY', 'GD', 'EXR', 'PRGO', 'EQR', 'TMO', 'KIM', 'AMZN']\n"
     ]
    }
   ],
   "source": [
    "import random\n",
    "random_tickers = random.sample(tickers, 100)\n",
    "print(random_tickers)"
   ]
  },
  {
   "cell_type": "code",
   "execution_count": 90,
   "metadata": {},
   "outputs": [
    {
     "name": "stdout",
     "output_type": "stream",
     "text": [
      "MPC file size 237467 bytes : reloading data...\n",
      "VIAC file size 1963 bytes : reloading data...\n",
      "FLT file size 243186 bytes : reloading data...\n",
      "IQV file size 177915 bytes : reloading data...\n",
      "PSX file size 211299 bytes : reloading data...\n",
      "FB file size 209085 bytes : reloading data...\n",
      "LW file size 85783 bytes : reloading data...\n"
     ]
    }
   ],
   "source": [
    "import pandas as pd\n",
    "import pandas_datareader.data as web\n",
    "import datetime as dt\n",
    "import os\n",
    "\n",
    "start = dt.datetime(2010,1,2)\n",
    "end = dt.datetime(2019,12,31)\n",
    "\n",
    "path = \"C:/Users/vaibh/Minor Project/Data\"\n",
    "for file in os.listdir(path):\n",
    "    os.remove(path+'/'+file)\n",
    "for item in random_tickers :\n",
    "    data = web.DataReader(item,'yahoo',start,end)\n",
    "    data_dir = \"C:/Users/vaibh/Minor_Project/\"+item+\".csv\"\n",
    "    data.to_csv(data_dir)\n",
    "    if os.path.getsize(data_dir) < 250000:\n",
    "        print(item+' file size '+str(os.path.getsize(data_dir))+' bytes : reloading data...')\n",
    "        data = web.DataReader(item,'yahoo',start,end)   \n",
    "        data.to_csv(data_dir)"
   ]
  },
  {
   "cell_type": "code",
   "execution_count": 97,
   "metadata": {},
   "outputs": [
    {
     "name": "stdout",
     "output_type": "stream",
     "text": [
      "['IFF', 'COST', 'DXC', 'JNPR', 'SCHW', 'AES', 'HON', 'WEC', 'FBHS', 'AXP', 'GOOGL', 'TFC', 'UHS', 'CINF', 'FITB', 'ILMN', 'DAL', 'MAS', 'CMG', 'PAYC', 'AEE', 'CF', 'SWKS', 'ADM', 'DLR', 'JBHT', 'BXP', 'XRX', 'FAST', 'ETR', 'CI', 'PRU', 'TJX', 'WYNN', 'FISV', 'KO', 'HSY', 'AVGO', 'PG', 'CMS', 'MSFT', 'CNC', 'NI', 'CB', 'INCY', 'HCA', 'DG', 'KR', 'AZO', 'BBY', 'ROL', 'AMD', 'T', 'NLOK', 'UNP', 'ALXN', 'TAP', 'CLX', 'ANTM', 'UAA', 'MKTX', 'PAYX', 'PXD', 'JPM', 'CFG', 'ETN', 'WST', 'KMX', 'NOC', 'CHRW', 'UNH', 'CTXS', 'APTV', 'GPS', 'BDX', 'CERN', 'COP', 'EIX', 'HWM', 'EXPD', 'DRI', 'CBRE', 'ATVI', 'FDX', 'HAS', 'RSG', 'IPGP', 'HOLX', 'ABBV', 'REG', 'PFE', 'STT', 'EVRG', 'NWL', 'WAB', 'TEL', 'FCX', 'SNPS', 'FOXA', 'BIO']\n"
     ]
    }
   ],
   "source": [
    "modified_tickers = [x for x in tickers if x not in random_tickers]\n",
    "random_tickers_2 = random.sample(modified_tickers, 100)\n",
    "print(random_tickers_2)"
   ]
  },
  {
   "cell_type": "code",
   "execution_count": 98,
   "metadata": {},
   "outputs": [
    {
     "name": "stdout",
     "output_type": "stream",
     "text": [
      "FBHS file size 230203 bytes : reloading data...\n",
      "PAYC file size 153111 bytes : reloading data...\n",
      "HCA file size 243040 bytes : reloading data...\n",
      "CFG file size 147639 bytes : reloading data...\n",
      "APTV file size 227844 bytes : reloading data...\n",
      "HWM file size 6919 bytes : reloading data...\n",
      "ABBV file size 192772 bytes : reloading data...\n",
      "FOXA file size 22663 bytes : reloading data...\n"
     ]
    }
   ],
   "source": [
    "import pandas as pd\n",
    "import pandas_datareader.data as web\n",
    "import datetime as dt\n",
    "import os\n",
    "\n",
    "start = dt.datetime(2010,1,2)\n",
    "end = dt.datetime(2019,12,31)\n",
    "\n",
    "path = \"C:/Users/vaibh/Minor Project/Data\"\n",
    "for file in os.listdir(path):\n",
    "    os.remove(path+'/'+file)\n",
    "for item in random_tickers_2 :\n",
    "    data = web.DataReader(item,'yahoo',start,end)\n",
    "    data_dir = \"C:/Users/vaibh/Minor_Project/\"+item+\".csv\"\n",
    "    data.to_csv(data_dir)\n",
    "    if os.path.getsize(data_dir) < 250000:\n",
    "        print(item+' file size '+str(os.path.getsize(data_dir))+' bytes : reloading data...')\n",
    "        data = web.DataReader(item,'yahoo',start,end)   \n",
    "        data.to_csv(data_dir)"
   ]
  },
  {
   "cell_type": "code",
   "execution_count": 104,
   "metadata": {},
   "outputs": [
    {
     "data": {
      "text/html": [
       "<div>\n",
       "<style scoped>\n",
       "    .dataframe tbody tr th:only-of-type {\n",
       "        vertical-align: middle;\n",
       "    }\n",
       "\n",
       "    .dataframe tbody tr th {\n",
       "        vertical-align: top;\n",
       "    }\n",
       "\n",
       "    .dataframe thead th {\n",
       "        text-align: right;\n",
       "    }\n",
       "</style>\n",
       "<table border=\"1\" class=\"dataframe\">\n",
       "  <thead>\n",
       "    <tr style=\"text-align: right;\">\n",
       "      <th></th>\n",
       "      <th>High</th>\n",
       "      <th>Low</th>\n",
       "      <th>Open</th>\n",
       "      <th>Close</th>\n",
       "      <th>Volume</th>\n",
       "      <th>Adj Close</th>\n",
       "    </tr>\n",
       "    <tr>\n",
       "      <th>Date</th>\n",
       "      <th></th>\n",
       "      <th></th>\n",
       "      <th></th>\n",
       "      <th></th>\n",
       "      <th></th>\n",
       "      <th></th>\n",
       "    </tr>\n",
       "  </thead>\n",
       "  <tbody>\n",
       "    <tr>\n",
       "      <th>2010-01-04</th>\n",
       "      <td>1133.869995</td>\n",
       "      <td>1116.560059</td>\n",
       "      <td>1116.560059</td>\n",
       "      <td>1132.989990</td>\n",
       "      <td>3991400000</td>\n",
       "      <td>1132.989990</td>\n",
       "    </tr>\n",
       "    <tr>\n",
       "      <th>2010-01-05</th>\n",
       "      <td>1136.630005</td>\n",
       "      <td>1129.660034</td>\n",
       "      <td>1132.660034</td>\n",
       "      <td>1136.520020</td>\n",
       "      <td>2491020000</td>\n",
       "      <td>1136.520020</td>\n",
       "    </tr>\n",
       "    <tr>\n",
       "      <th>2010-01-06</th>\n",
       "      <td>1139.189941</td>\n",
       "      <td>1133.949951</td>\n",
       "      <td>1135.709961</td>\n",
       "      <td>1137.140015</td>\n",
       "      <td>4972660000</td>\n",
       "      <td>1137.140015</td>\n",
       "    </tr>\n",
       "    <tr>\n",
       "      <th>2010-01-07</th>\n",
       "      <td>1142.459961</td>\n",
       "      <td>1131.319946</td>\n",
       "      <td>1136.270020</td>\n",
       "      <td>1141.689941</td>\n",
       "      <td>5270680000</td>\n",
       "      <td>1141.689941</td>\n",
       "    </tr>\n",
       "    <tr>\n",
       "      <th>2010-01-08</th>\n",
       "      <td>1145.390015</td>\n",
       "      <td>1136.219971</td>\n",
       "      <td>1140.520020</td>\n",
       "      <td>1144.979980</td>\n",
       "      <td>4389590000</td>\n",
       "      <td>1144.979980</td>\n",
       "    </tr>\n",
       "  </tbody>\n",
       "</table>\n",
       "</div>"
      ],
      "text/plain": [
       "                   High          Low         Open        Close      Volume  \\\n",
       "Date                                                                         \n",
       "2010-01-04  1133.869995  1116.560059  1116.560059  1132.989990  3991400000   \n",
       "2010-01-05  1136.630005  1129.660034  1132.660034  1136.520020  2491020000   \n",
       "2010-01-06  1139.189941  1133.949951  1135.709961  1137.140015  4972660000   \n",
       "2010-01-07  1142.459961  1131.319946  1136.270020  1141.689941  5270680000   \n",
       "2010-01-08  1145.390015  1136.219971  1140.520020  1144.979980  4389590000   \n",
       "\n",
       "              Adj Close  \n",
       "Date                     \n",
       "2010-01-04  1132.989990  \n",
       "2010-01-05  1136.520020  \n",
       "2010-01-06  1137.140015  \n",
       "2010-01-07  1141.689941  \n",
       "2010-01-08  1144.979980  "
      ]
     },
     "execution_count": 104,
     "metadata": {},
     "output_type": "execute_result"
    }
   ],
   "source": [
    "# Market Value\n",
    "market_value_data = web.DataReader('^GSPC', 'yahoo', start,end)\n",
    "market_value_data.to_csv('C:/Users/vaibh/Minor_Project/Market_Value.csv')\n",
    "market_value_data.head()"
   ]
  }
 ],
 "metadata": {
  "kernelspec": {
   "display_name": "Python 3",
   "language": "python",
   "name": "python3"
  },
  "language_info": {
   "codemirror_mode": {
    "name": "ipython",
    "version": 3
   },
   "file_extension": ".py",
   "mimetype": "text/x-python",
   "name": "python",
   "nbconvert_exporter": "python",
   "pygments_lexer": "ipython3",
   "version": "3.8.3"
  }
 },
 "nbformat": 4,
 "nbformat_minor": 4
}
