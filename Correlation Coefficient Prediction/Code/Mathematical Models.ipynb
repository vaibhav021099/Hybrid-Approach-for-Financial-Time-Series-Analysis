{
 "cells": [
  {
   "cell_type": "markdown",
   "metadata": {},
   "source": [
    "## Importing Datasets"
   ]
  },
  {
   "cell_type": "code",
   "execution_count": 4,
   "metadata": {},
   "outputs": [],
   "source": [
    "#Loading Datasets\n",
    "import pandas as pd\n",
    "import numpy as np\n",
    "\n",
    "val = pd.read_csv(\"C:/Users/vaibh/Minor_Project/TDT_Data/Validation.csv\")\n",
    "test1 = pd.read_csv(\"C:/Users/vaibh/Minor_Project/TDT_Data/Test1.csv\")\n",
    "test2 = pd.read_csv(\"C:/Users/vaibh/Minor_Project/TDT_Data/Test2.csv\")"
   ]
  },
  {
   "cell_type": "markdown",
   "metadata": {},
   "source": [
    "## Full Historical Model"
   ]
  },
  {
   "cell_type": "code",
   "execution_count": 6,
   "metadata": {},
   "outputs": [
    {
     "name": "stdout",
     "output_type": "stream",
     "text": [
      "0.4639777102383819/0.5517980134516084\n",
      "0.45020593656908936/0.5351984280464072\n",
      "0.42804722312212407/0.5245239777862233\n"
     ]
    }
   ],
   "source": [
    "STEP = 20\n",
    "val_pred = np.array(val['20'])\n",
    "val_y = np.array(val['21']).reshape(1,int(1117500/STEP))[0]\n",
    "test1_pred = np.array(test1['21'])\n",
    "test1_y = np.array(test1['22']).reshape(1,int(1117500/STEP))[0]\n",
    "test2_pred = np.array(test2['22'])\n",
    "test2_y = np.array(test2['23']).reshape(1,int(1117500/STEP))[0]\n",
    "\n",
    "val_mse = sum((val_pred-val_y)**2)/len(val_pred)\n",
    "val_mae = sum(abs(val_pred-val_y))/len(val_pred)\n",
    "test1_mse = sum((test1_pred-test1_y)**2)/len(test1_pred)\n",
    "test1_mae = sum(abs(test1_pred-test1_y))/len(test1_pred)\n",
    "test2_mse = sum((test2_pred-test2_y)**2)/len(test2_pred)\n",
    "test2_mae = sum(abs(test2_pred-test2_y))/len(test2_pred)\n",
    "\n",
    "hist_matrix = [[val_mse, val_mae], [test1_mse, test1_mae], [test2_mse, test2_mae]]\n",
    "for i in hist_matrix :\n",
    "    print(str(i[0]) + '/' + str(i[1]))"
   ]
  },
  {
   "cell_type": "markdown",
   "metadata": {},
   "source": [
    "## Constant Correlation Model"
   ]
  },
  {
   "cell_type": "code",
   "execution_count": 11,
   "metadata": {},
   "outputs": [
    {
     "name": "stdout",
     "output_type": "stream",
     "text": [
      "0.259334968879766/0.44421769808453504\n",
      "0.21454791485538244/0.40390394802224033\n",
      "0.27704437119973585/0.42384399470960565\n"
     ]
    }
   ],
   "source": [
    "pred = sum(val['20'])/int(1117500/STEP)\n",
    "val_pred = np.array([pred] * int(1117500/STEP))\n",
    "pred = sum(test1['21'])/int(1117500/STEP)\n",
    "test1_pred = np.array([pred] * int(1117500/STEP))\n",
    "pred = sum(test2['22'])/int(1117500/STEP)\n",
    "test2_pred = np.array([pred] * int(1117500/STEP))\n",
    "\n",
    "val_mse = sum((val_pred-val_y)**2)/len(val_pred)\n",
    "val_mae = sum(abs(val_pred-val_y))/len(val_pred)\n",
    "test1_mse = sum((test1_pred-test1_y)**2)/len(test1_pred)\n",
    "test1_mae = sum(abs(test1_pred-test1_y))/len(test1_pred)\n",
    "test2_mse = sum((test2_pred-test2_y)**2)/len(test2_pred)\n",
    "test2_mae = sum(abs(test2_pred-test2_y))/len(test2_pred)\n",
    "\n",
    "cc_matrix = [[val_mse, val_mae], [test1_mse, test1_mae], [test2_mse, test2_mae]]\n",
    "for i in cc_matrix :\n",
    "    print(str(i[0]) + '/' + str(i[1]))"
   ]
  },
  {
   "cell_type": "markdown",
   "metadata": {},
   "source": [
    "## Single-Index Model"
   ]
  },
  {
   "cell_type": "code",
   "execution_count": 14,
   "metadata": {},
   "outputs": [],
   "source": [
    "# Portfolio\n",
    "portfolio = ['LEG', 'MS', 'IPGP', 'AIG', 'MYL', 'CTXS', 'STT', 'WST', 'UHS', 'UAA', 'CL', 'BKR', 'OMC', 'JBHT', 'CMG', \n",
    "             'NOC', 'CMS', 'ALXN', 'REG', 'YUM', 'T', 'AMD', 'KO', 'KR', 'CERN', 'CHD', 'ECL', 'SPG', 'NI', 'INCY', 'SIVB', \n",
    "             'GS', 'ROL', 'REGN', 'ODFL', 'SEE','COF', 'WEC', 'ADM', 'CME', 'FCX', 'DLR', 'TRV', 'HBAN', 'CI', 'MSFT', 'OXY', \n",
    "             'BLL', 'CHRW','DISCA', 'EXR', 'VRSK', 'MGM', 'SNA', 'BIO', 'STZ', 'AEE', 'ED', 'KSU', 'SLG', 'TFC', 'TMO', 'PCAR',\n",
    "             'LRCX', 'PPL', 'URI', 'PH', 'CCI', 'MKTX', 'SWKS', 'JPM', 'AEP', 'TEL', 'BDX', 'ATVI', 'CINF', 'RTX', 'CMCSA',\n",
    "             'HAS','COST', 'CMI', 'DAL', 'HES', 'PG', 'UNP', 'DG', 'GOOGL', 'CF', 'HSY', 'NOV', 'PBCT', 'UNM', 'PEG', 'IP', \n",
    "             'AES','INTU', 'DRI', 'LDOS', 'MO', 'KIM', 'HON', 'CB', 'BWA', 'WY', 'AVGO', 'IFF', 'DE', 'MCK', 'BAX', 'TAP', 'GD', 'XRX', \n",
    "             'HST', 'NLOK', 'SYY', 'ILMN', 'MAS', 'VAR', 'AVB', 'TIF', 'EIX', 'KMB', 'JNPR', 'SWK', 'AON', 'LB', 'SPGI', 'PXD', \n",
    "             'BXP', 'CLX', 'HFC', 'UNH', 'SNPS', 'CNC', 'WYNN', 'IVZ', 'ADI', 'HOLX', 'TT', 'PFE', 'PRGO', 'ARE', 'KMX', 'TDG', \n",
    "             'RSG', 'FAST', 'IEX', 'AMZN', 'BBY', 'VNO']"
   ]
  },
  {
   "cell_type": "code",
   "execution_count": 15,
   "metadata": {},
   "outputs": [
    {
     "name": "stdout",
     "output_type": "stream",
     "text": [
      "0.33173229344492594/0.48156674631457835\n",
      "0.3798808795601796/0.5014373418629037\n",
      "0.37861770178490667/0.4925707126270756\n"
     ]
    }
   ],
   "source": [
    "data_df = pd.read_csv('C:/Users/vaibh/Minor_Project/Stock_Price.csv')\n",
    "data_df = data_df.loc[:, ~data_df.columns.str.contains('^Unnamed')]\n",
    "\n",
    "val_pred = []\n",
    "test1_pred = []\n",
    "test2_pred = []\n",
    "\n",
    "for i in range(150):\n",
    "    for j in range(149-i):\n",
    "        a = portfolio[i]\n",
    "        b = portfolio[149-j]\n",
    "        for k in range(5):\n",
    "            val_start = 2000 + k*20\n",
    "            test1_start = 2100 + k*20\n",
    "            test2_start = 2200 + k*20\n",
    "            val_pred.append(data_df[a][val_start:val_start+100].corr(data_df['SP500'][val_start:val_start+100]) *\n",
    "                            data_df[b][val_start:val_start+100].corr(data_df['SP500'][val_start:val_start+100]))\n",
    "            test1_pred.append(data_df[a][test1_start:test1_start+100].corr(data_df['SP500'][test1_start:test1_start+100])*\n",
    "                              data_df[b][test1_start:test1_start+100].corr(data_df['SP500'][test1_start:test1_start+100]))\n",
    "            test2_pred.append(data_df[a][test2_start:test2_start+100].corr(data_df['SP500'][test2_start:test2_start+100])*\n",
    "                              data_df[b][test2_start:test2_start+100].corr(data_df['SP500'][test2_start:test2_start+100]))\n",
    "val_pred = np.array(val_pred)\n",
    "test1_pred = np.array(test1_pred)\n",
    "test2_pred = np.array(test2_pred)\n",
    "            \n",
    "num_list = [STEP*i for i in range(int(1117500/STEP))]\n",
    "dataset = pd.read_csv(\"C:/Users/vaibh/Minor_Project/Dataset.csv\")\n",
    "val_y = dataset['21'].copy()\n",
    "test1_y = dataset['22'].copy()\n",
    "test2_y = dataset['23'].copy()\n",
    "\n",
    "val_y = np.array(val_y[num_list]).reshape(1,int(1117500/STEP))[0]\n",
    "test1_y = np.array(test1_y[num_list]).reshape(1,int(1117500/STEP))[0]\n",
    "test2_y = np.array(test2_y[num_list]).reshape(1,int(1117500/STEP))[0]\n",
    "\n",
    "  \n",
    "\n",
    "val_mse = sum((val_pred-val_y)**2)/len(val_pred)\n",
    "val_mae = sum(abs(val_pred-val_y))/len(val_pred)\n",
    "test1_mse = sum((test1_pred-test1_y)**2)/len(test1_pred)\n",
    "test1_mae = sum(abs(test1_pred-test1_y))/len(test1_pred)\n",
    "test2_mse = sum((test2_pred-test2_y)**2)/len(test2_pred)\n",
    "test2_mae = sum(abs(test2_pred-test2_y))/len(test2_pred)\n",
    "\n",
    "mg_matrix = [[val_mse, val_mae], [test1_mse, test1_mae], [test2_mse, test2_mae]]\n",
    "for i in mg_matrix :\n",
    "    print(str(i[0]) + '/' + str(i[1]))"
   ]
  },
  {
   "cell_type": "markdown",
   "metadata": {},
   "source": [
    "## Multi-Group Model"
   ]
  },
  {
   "cell_type": "code",
   "execution_count": 17,
   "metadata": {},
   "outputs": [],
   "source": [
    "data_df = pd.read_csv('C:/Users/vaibh/Minor_Project/Dataset.csv')\n",
    "data_df = data_df.loc[:, ~data_df.columns.str.contains('^Unnamed')]\n",
    "num_list = []\n",
    "for i in range(24):\n",
    "    num_list.append(str(i))\n",
    "data_df = data_df[num_list].copy()\n",
    "data_df = np.transpose(data_df)"
   ]
  },
  {
   "cell_type": "code",
   "execution_count": 18,
   "metadata": {},
   "outputs": [
    {
     "name": "stdout",
     "output_type": "stream",
     "text": [
      "['Industrials' 'Health Care' 'Information Technology'\n",
      " 'Communication Services' 'Consumer Discretionary' 'Utilities'\n",
      " 'Financials' 'Materials' 'Real Estate' 'Consumer Staples' 'Energy'\n",
      " 'Communication Services\\n']\n",
      "   Unnamed: 0 Ticker              Company             GICS_sector  \\\n",
      "0           0    MMM           3M Company             Industrials   \n",
      "1           1    ABT  Abbott Laboratories             Health Care   \n",
      "2           2   ABBV          AbbVie Inc.             Health Care   \n",
      "3           3   ABMD          ABIOMED Inc             Health Care   \n",
      "4           4    ACN        Accenture plc  Information Technology   \n",
      "\n",
      "                GICS_sub_industry  \n",
      "0        Industrial Conglomerates  \n",
      "1           Health Care Equipment  \n",
      "2                 Pharmaceuticals  \n",
      "3           Health Care Equipment  \n",
      "4  IT Consulting & Other Services  \n"
     ]
    }
   ],
   "source": [
    "data = pd.read_csv('C:/Users/vaibh/Minor_Project/SP500_list.csv')\n",
    "print(data['GICS_sector'].unique())\n",
    "print(data.head())"
   ]
  },
  {
   "cell_type": "code",
   "execution_count": 25,
   "metadata": {},
   "outputs": [
    {
     "name": "stdout",
     "output_type": "stream",
     "text": [
      "{'Industrials': ['JBHT', 'NOC', 'ROL', 'ODFL', 'CHRW', 'VRSK', 'SNA', 'KSU', 'PCAR', 'URI', 'PH', 'RTX', 'CMI', 'DAL', 'UNP', 'HON', 'DE', 'GD', 'MAS', 'SWK', 'TT', 'TDG', 'RSG', 'FAST', 'IEX'], 'Health Care': ['MYL', 'WST', 'UHS', 'ALXN', 'CERN', 'INCY', 'REGN', 'CI', 'BIO', 'TMO', 'BDX', 'MCK', 'BAX', 'ILMN', 'VAR', 'UNH', 'CNC', 'HOLX', 'PFE', 'PRGO'], 'Information Technology': ['IPGP', 'CTXS', 'AMD', 'MSFT', 'LRCX', 'SWKS', 'TEL', 'INTU', 'LDOS', 'AVGO', 'XRX', 'NLOK', 'JNPR', 'SNPS', 'ADI'], 'Consumer Discretionary': ['LEG', 'UAA', 'CMG', 'YUM', 'MGM', 'HAS', 'DG', 'DRI', 'BWA', 'TIF', 'LB', 'WYNN', 'KMX', 'AMZN', 'BBY'], 'Utilities': ['CMS', 'NI', 'WEC', 'AEE', 'ED', 'PPL', 'AEP', 'PEG', 'AES', 'EIX'], 'Financials': ['MS', 'AIG', 'STT', 'SIVB', 'GS', 'COF', 'CME', 'TRV', 'HBAN', 'TFC', 'MKTX', 'JPM', 'CINF', 'PBCT', 'UNM', 'CB', 'AON', 'SPGI', 'IVZ'], 'Materials': ['ECL', 'SEE', 'FCX', 'BLL', 'CF', 'IP', 'IFF'], 'Real Estate': ['REG', 'SPG', 'DLR', 'EXR', 'SLG', 'CCI', 'KIM', 'WY', 'HST', 'AVB', 'BXP', 'ARE', 'VNO'], 'Consumer Staples': ['CL', 'KO', 'KR', 'CHD', 'ADM', 'STZ', 'COST', 'PG', 'HSY', 'MO', 'TAP', 'SYY', 'KMB', 'CLX'], 'Energy': ['BKR', 'OXY', 'HES', 'NOV', 'PXD', 'HFC'], 'Communication Services': ['OMC', 'T', 'DISCA', 'ATVI', 'CMCSA', 'GOOGL']}\n"
     ]
    }
   ],
   "source": [
    "pf_sector_item = {'Industrials':[],\n",
    "                  'Health Care':[],\n",
    "                  'Information Technology':[],\n",
    "                  'Consumer Discretionary':[],\n",
    "                  'Utilities':[],\n",
    "                  'Financials' :[],\n",
    "                  'Materials':[],\n",
    "                  'Real Estate':[],\n",
    "                  'Consumer Staples':[],\n",
    "                  'Energy':[],\n",
    "                  'Communication Services':[]}\n",
    "for item in portfolio :\n",
    "    pf_sector_item[data[data.Ticker == item]['GICS_sector'].values[0]] = pf_sector_item[data[data.Ticker == item]['GICS_sector'].values[0]]+[item]\n",
    "print(pf_sector_item)"
   ]
  },
  {
   "cell_type": "code",
   "execution_count": 28,
   "metadata": {},
   "outputs": [],
   "source": [
    "market_data = pd.read_csv('C:/Users/vaibh/Minor_Project/Stock_Price.csv')\n",
    "pf_sector_dev = {}\n",
    "pf_sector_test1 = {}\n",
    "pf_sector_test2 = {}\n",
    "\n",
    "for i in range(150):\n",
    "    for j in range(149-i):\n",
    "        a = portfolio[i]\n",
    "        b = portfolio[149-j]\n",
    "        a_price = market_data[a]\n",
    "        b_price = market_data[b]\n",
    "        a_sector = data[data.Ticker == a]['GICS_sector'].values[0]\n",
    "        b_sector = data[data.Ticker == b]['GICS_sector'].values[0]\n",
    "        sector_pair = max(a_sector, b_sector)+'_'+min(a_sector, b_sector)\n",
    "        \n",
    "        dev = []\n",
    "        test1 = []\n",
    "        test2 = []\n",
    "        for k in range(5):\n",
    "            dev_start = 2000 + k*20\n",
    "            test1_start = 2100 + k*20\n",
    "            test2_start = 2200 + k*20\n",
    "            dev.append(a_price[dev_start:dev_start+100].corr(b_price[dev_start:dev_start+100]))\n",
    "            test1.append(a_price[test1_start:test1_start+100].corr(b_price[test1_start:test1_start+100]))\n",
    "            test2.append(a_price[test2_start:test2_start+100].corr(b_price[test2_start:test2_start+100]))\n",
    "        \n",
    "        try:\n",
    "            pf_sector_dev[sector_pair] = pf_sector_dev[sector_pair] + [dev]\n",
    "        except KeyError :\n",
    "            pf_sector_dev[sector_pair] = [dev]\n",
    "            \n",
    "        try:\n",
    "            pf_sector_test1[sector_pair] = pf_sector_test1[sector_pair] + [test1]\n",
    "        except KeyError :\n",
    "            pf_sector_test1[sector_pair] = [test1]\n",
    "            \n",
    "        try:\n",
    "            pf_sector_test2[sector_pair] = pf_sector_test2[sector_pair] + [test2]\n",
    "        except KeyError :\n",
    "            pf_sector_test2[sector_pair] = [test2]"
   ]
  },
  {
   "cell_type": "code",
   "execution_count": 29,
   "metadata": {},
   "outputs": [],
   "source": [
    "pairs = [key for key in pf_sector_dev]\n",
    "sector_pair_corr_dev = {}\n",
    "sector_pair_corr_test1 = {}\n",
    "sector_pair_corr_test2 = {}\n",
    "for pair in pairs :\n",
    "    dev_zeroes = np.array([0] * 5)\n",
    "    test1_zeroes = np.array([0] * 5)\n",
    "    test2_zeroes = np.array([0] * 5)\n",
    "    dev_length = len(pf_sector_dev[pair])\n",
    "    test1_length = len(pf_sector_test1[pair])\n",
    "    test2_length = len(pf_sector_test2[pair])\n",
    "    for arr in pf_sector_dev[pair] :\n",
    "        dev_zeroes = dev_zeroes + np.array(arr)\n",
    "        dev_result = dev_zeroes/dev_length\n",
    "    for arr in pf_sector_test1[pair] :\n",
    "        test1_zeroes = test1_zeroes + np.array(arr)\n",
    "        test1_result = test1_zeroes/test1_length\n",
    "    for arr in pf_sector_test2[pair] :\n",
    "        test2_zeroes = test2_zeroes + np.array(arr)\n",
    "        test2_result = test2_zeroes/test2_length\n",
    "    sector_pair_corr_dev[pair] = dev_result\n",
    "    sector_pair_corr_test1[pair] = test1_result\n",
    "    sector_pair_corr_test2[pair] = test2_result"
   ]
  },
  {
   "cell_type": "code",
   "execution_count": 31,
   "metadata": {},
   "outputs": [
    {
     "name": "stdout",
     "output_type": "stream",
     "text": [
      "0.26985806176822236/0.4477540958664282\n",
      "0.25583022894551727/0.42797530765286973\n",
      "0.29418590401136024/0.4344275037524398\n"
     ]
    }
   ],
   "source": [
    "num_list = [STEP*i for i in range(int(1117500/STEP))]\n",
    "dataset = pd.read_csv(\"C:/Users/vaibh/Minor_Project/Dataset.csv\")\n",
    "val_y = dataset['21'].copy()\n",
    "test1_y = dataset['22'].copy()\n",
    "test2_y = dataset['23'].copy()\n",
    "\n",
    "val_y = np.array(val_y[num_list]).reshape(1,int(1117500/STEP))[0]\n",
    "test1_y = np.array(test1_y[num_list]).reshape(1,int(1117500/STEP))[0]\n",
    "test2_y = np.array(test2_y[num_list]).reshape(1,int(1117500/STEP))[0]\n",
    "\n",
    "val_pred = []\n",
    "test1_pred = []\n",
    "test2_pred = []\n",
    "for i in range(150):\n",
    "    for j in range(149-i):\n",
    "        a = portfolio[i]\n",
    "        b = portfolio[149-j]\n",
    "        a_sector = data[data.Ticker == a]['GICS_sector'].values[0]\n",
    "        b_sector = data[data.Ticker == b]['GICS_sector'].values[0]\n",
    "        sector_pair = max(a_sector, b_sector)+'_'+min(a_sector, b_sector)\n",
    "        \n",
    "        val_pred = val_pred + list(sector_pair_corr_dev[sector_pair])\n",
    "        test1_pred = test1_pred + list(sector_pair_corr_test1[sector_pair])\n",
    "        test2_pred = test2_pred + list(sector_pair_corr_test2[sector_pair])\n",
    "val_pred = np.array(val_pred)\n",
    "test1_pred = np.array(test1_pred)\n",
    "test2_pred = np.array(test2_pred)\n",
    "\n",
    "\n",
    "val_mse = sum((val_pred-val_y)**2)/len(val_pred)\n",
    "val_mae = sum(abs(val_pred-val_y))/len(val_pred)\n",
    "test1_mse = sum((test1_pred-test1_y)**2)/len(test1_pred)\n",
    "test1_mae = sum(abs(test1_pred-test1_y))/len(test1_pred)\n",
    "test2_mse = sum((test2_pred-test2_y)**2)/len(test2_pred)\n",
    "test2_mae = sum(abs(test2_pred-test2_y))/len(test2_pred)\n",
    "\n",
    "mg_matrix = [[val_mse, val_mae], [test1_mse, test1_mae], [test2_mse, test2_mae]]\n",
    "for i in mg_matrix :\n",
    "    print(str(i[0]) + '/' + str(i[1]))"
   ]
  }
 ],
 "metadata": {
  "kernelspec": {
   "display_name": "Python 3",
   "language": "python",
   "name": "python3"
  },
  "language_info": {
   "codemirror_mode": {
    "name": "ipython",
    "version": 3
   },
   "file_extension": ".py",
   "mimetype": "text/x-python",
   "name": "python",
   "nbconvert_exporter": "python",
   "pygments_lexer": "ipython3",
   "version": "3.8.3"
  }
 },
 "nbformat": 4,
 "nbformat_minor": 4
}
